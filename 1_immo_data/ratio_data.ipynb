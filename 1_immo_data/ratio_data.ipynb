{
 "cells": [
  {
   "cell_type": "markdown",
   "metadata": {},
   "source": [
    "# **3) Ratio Data**"
   ]
  },
  {
   "cell_type": "markdown",
   "metadata": {},
   "source": [
    "##### *À quoi ressemblent nos df ?*\n",
    "##### <span style='color:red'>**Modifier data ici ↓**</span>"
   ]
  },
  {
   "cell_type": "code",
   "execution_count": 1,
   "metadata": {},
   "outputs": [
    {
     "data": {
      "text/html": [
       "<div>\n",
       "<style scoped>\n",
       "    .dataframe tbody tr th:only-of-type {\n",
       "        vertical-align: middle;\n",
       "    }\n",
       "\n",
       "    .dataframe tbody tr th {\n",
       "        vertical-align: top;\n",
       "    }\n",
       "\n",
       "    .dataframe thead th {\n",
       "        text-align: right;\n",
       "    }\n",
       "</style>\n",
       "<table border=\"1\" class=\"dataframe\">\n",
       "  <thead>\n",
       "    <tr style=\"text-align: right;\">\n",
       "      <th></th>\n",
       "      <th>ville</th>\n",
       "      <th>canton</th>\n",
       "      <th>prix_metre_carre_moyen</th>\n",
       "    </tr>\n",
       "  </thead>\n",
       "  <tbody>\n",
       "    <tr>\n",
       "      <th>0</th>\n",
       "      <td>Aadorf</td>\n",
       "      <td>TG</td>\n",
       "      <td>15.049751</td>\n",
       "    </tr>\n",
       "    <tr>\n",
       "      <th>1</th>\n",
       "      <td>Aarau</td>\n",
       "      <td>AG</td>\n",
       "      <td>0.000000</td>\n",
       "    </tr>\n",
       "    <tr>\n",
       "      <th>2</th>\n",
       "      <td>Aarburg</td>\n",
       "      <td>AG</td>\n",
       "      <td>16.863430</td>\n",
       "    </tr>\n",
       "    <tr>\n",
       "      <th>3</th>\n",
       "      <td>Aefligen</td>\n",
       "      <td>BE</td>\n",
       "      <td>0.000000</td>\n",
       "    </tr>\n",
       "    <tr>\n",
       "      <th>4</th>\n",
       "      <td>Aire-la-Ville</td>\n",
       "      <td>GE</td>\n",
       "      <td>0.000000</td>\n",
       "    </tr>\n",
       "    <tr>\n",
       "      <th>5</th>\n",
       "      <td>Allaman</td>\n",
       "      <td>VD</td>\n",
       "      <td>0.000000</td>\n",
       "    </tr>\n",
       "    <tr>\n",
       "      <th>6</th>\n",
       "      <td>Alle</td>\n",
       "      <td>JU</td>\n",
       "      <td>13.584906</td>\n",
       "    </tr>\n",
       "  </tbody>\n",
       "</table>\n",
       "</div>"
      ],
      "text/plain": [
       "           ville canton  prix_metre_carre_moyen\n",
       "0         Aadorf     TG               15.049751\n",
       "1          Aarau     AG                0.000000\n",
       "2        Aarburg     AG               16.863430\n",
       "3       Aefligen     BE                0.000000\n",
       "4  Aire-la-Ville     GE                0.000000\n",
       "5        Allaman     VD                0.000000\n",
       "6           Alle     JU               13.584906"
      ]
     },
     "execution_count": 1,
     "metadata": {},
     "output_type": "execute_result"
    }
   ],
   "source": [
    "import pandas as pd\n",
    "\n",
    "prix_metre_carre_louer = pd.read_csv('1_useful_data/2_mean_data/Prix_metre_carre_louer.csv')\n",
    "prix_metre_carre_acheter = pd.read_csv('1_useful_data/2_mean_data/Prix_metre_carre_acheter.csv')\n",
    "\n",
    "prix_metre_carre_louer.head(7)"
   ]
  },
  {
   "cell_type": "code",
   "execution_count": 2,
   "metadata": {},
   "outputs": [
    {
     "data": {
      "text/html": [
       "<div>\n",
       "<style scoped>\n",
       "    .dataframe tbody tr th:only-of-type {\n",
       "        vertical-align: middle;\n",
       "    }\n",
       "\n",
       "    .dataframe tbody tr th {\n",
       "        vertical-align: top;\n",
       "    }\n",
       "\n",
       "    .dataframe thead th {\n",
       "        text-align: right;\n",
       "    }\n",
       "</style>\n",
       "<table border=\"1\" class=\"dataframe\">\n",
       "  <thead>\n",
       "    <tr style=\"text-align: right;\">\n",
       "      <th></th>\n",
       "      <th>ville</th>\n",
       "      <th>canton</th>\n",
       "      <th>prix_metre_carre_moyen</th>\n",
       "    </tr>\n",
       "  </thead>\n",
       "  <tbody>\n",
       "    <tr>\n",
       "      <th>0</th>\n",
       "      <td>Aarburg</td>\n",
       "      <td>AG</td>\n",
       "      <td>6699.134199</td>\n",
       "    </tr>\n",
       "    <tr>\n",
       "      <th>1</th>\n",
       "      <td>Aclens</td>\n",
       "      <td>VD</td>\n",
       "      <td>8559.539052</td>\n",
       "    </tr>\n",
       "    <tr>\n",
       "      <th>2</th>\n",
       "      <td>Acquarossa</td>\n",
       "      <td>TI</td>\n",
       "      <td>4433.638444</td>\n",
       "    </tr>\n",
       "    <tr>\n",
       "      <th>3</th>\n",
       "      <td>Adligenswil</td>\n",
       "      <td>LU</td>\n",
       "      <td>0.000000</td>\n",
       "    </tr>\n",
       "    <tr>\n",
       "      <th>4</th>\n",
       "      <td>Aesch</td>\n",
       "      <td>ZH</td>\n",
       "      <td>0.000000</td>\n",
       "    </tr>\n",
       "    <tr>\n",
       "      <th>5</th>\n",
       "      <td>Aeschi</td>\n",
       "      <td>SO</td>\n",
       "      <td>0.000000</td>\n",
       "    </tr>\n",
       "    <tr>\n",
       "      <th>6</th>\n",
       "      <td>Aeschi bei Spiez</td>\n",
       "      <td>BE</td>\n",
       "      <td>0.000000</td>\n",
       "    </tr>\n",
       "  </tbody>\n",
       "</table>\n",
       "</div>"
      ],
      "text/plain": [
       "              ville canton  prix_metre_carre_moyen\n",
       "0           Aarburg     AG             6699.134199\n",
       "1            Aclens     VD             8559.539052\n",
       "2        Acquarossa     TI             4433.638444\n",
       "3       Adligenswil     LU                0.000000\n",
       "4             Aesch     ZH                0.000000\n",
       "5            Aeschi     SO                0.000000\n",
       "6  Aeschi bei Spiez     BE                0.000000"
      ]
     },
     "execution_count": 2,
     "metadata": {},
     "output_type": "execute_result"
    }
   ],
   "source": [
    "prix_metre_carre_acheter.head(7)"
   ]
  },
  {
   "cell_type": "markdown",
   "metadata": {},
   "source": [
    "---"
   ]
  },
  {
   "cell_type": "markdown",
   "metadata": {},
   "source": [
    "##### **Définition de la fonction Ratio_prix_metre_carre**"
   ]
  },
  {
   "cell_type": "code",
   "execution_count": 3,
   "metadata": {},
   "outputs": [],
   "source": [
    "def ratio_prix_metre_carre(df_prix_metre_carre_louer, df_prix_metre_carre_acheter):\n",
    "\n",
    "    #Supprime les villes où prix_metre_carre_moyen est égal à 0 pour le df Prix_metre_carre_louer\n",
    "    Prix_metre_carre_louer = df_prix_metre_carre_louer[df_prix_metre_carre_louer['prix_metre_carre_moyen'] != 0]\n",
    "\n",
    "    #Supprime les villes où prix_metre_carre_moyen est égal à 0 pour le df Prix_metre_carre_acheter\n",
    "    Prix_metre_carre_acheter = df_prix_metre_carre_acheter[df_prix_metre_carre_acheter['prix_metre_carre_moyen'] != 0]\n",
    "\n",
    "    #Fusionne les dfs où le pmc est différent de 0\n",
    "    df_merged = pd.merge(Prix_metre_carre_louer, Prix_metre_carre_acheter, on=['ville', 'canton'], suffixes=('_louer', '_acheter'))\n",
    "\n",
    "    #Calcule le ratio et ajoute une colonne\n",
    "    #df_merged['ratio*100'] = df_merged['prix_metre_carre_moyen_louer'] / df_merged['prix_metre_carre_moyen_acheter'] *100\n",
    "\n",
    "    #Calcule le ROI en % et ajoute une colonne\n",
    "    df_merged['ROI'] = df_merged['prix_metre_carre_moyen_louer']*12 *100 / df_merged['prix_metre_carre_moyen_acheter']\n",
    "\n",
    "    # Ajoute une colonne 'color' en fonction du ROI\n",
    "    df_merged['color'] = df_merged['ROI'].apply(lambda x: '#ff0000' if x < 2 else\n",
    "                                                '#ffa700' if 2 <= x < 3 else\n",
    "                                                '#fff400' if 3 <= x < 4 else\n",
    "                                                '#99ff00' if 4 <= x < 5 else\n",
    "                                                '#2cba00' if 5 <= x < 6 else\n",
    "                                                '#17c1ff')\n",
    "\n",
    "    #Arrondi la les colonnes à deux décimales\n",
    "    df_merged = df_merged.round(4)\n",
    "\n",
    "\n",
    "    return df_merged\n",
    "\n"
   ]
  },
  {
   "cell_type": "markdown",
   "metadata": {},
   "source": [
    "---"
   ]
  },
  {
   "cell_type": "markdown",
   "metadata": {},
   "source": [
    "### ***Ratio Immobilier.ch Louer et Acheter*** "
   ]
  },
  {
   "cell_type": "code",
   "execution_count": 4,
   "metadata": {},
   "outputs": [
    {
     "data": {
      "text/html": [
       "<div>\n",
       "<style scoped>\n",
       "    .dataframe tbody tr th:only-of-type {\n",
       "        vertical-align: middle;\n",
       "    }\n",
       "\n",
       "    .dataframe tbody tr th {\n",
       "        vertical-align: top;\n",
       "    }\n",
       "\n",
       "    .dataframe thead th {\n",
       "        text-align: right;\n",
       "    }\n",
       "</style>\n",
       "<table border=\"1\" class=\"dataframe\">\n",
       "  <thead>\n",
       "    <tr style=\"text-align: right;\">\n",
       "      <th></th>\n",
       "      <th>ville</th>\n",
       "      <th>canton</th>\n",
       "      <th>prix_metre_carre_moyen_louer</th>\n",
       "      <th>prix_metre_carre_moyen_acheter</th>\n",
       "      <th>ROI</th>\n",
       "      <th>color</th>\n",
       "    </tr>\n",
       "  </thead>\n",
       "  <tbody>\n",
       "    <tr>\n",
       "      <th>0</th>\n",
       "      <td>Aarburg</td>\n",
       "      <td>AG</td>\n",
       "      <td>16.8634</td>\n",
       "      <td>6699.1342</td>\n",
       "      <td>3.0207</td>\n",
       "      <td>#fff400</td>\n",
       "    </tr>\n",
       "    <tr>\n",
       "      <th>1</th>\n",
       "      <td>Alle</td>\n",
       "      <td>JU</td>\n",
       "      <td>13.5849</td>\n",
       "      <td>4592.5926</td>\n",
       "      <td>3.5496</td>\n",
       "      <td>#fff400</td>\n",
       "    </tr>\n",
       "    <tr>\n",
       "      <th>2</th>\n",
       "      <td>Altstätten</td>\n",
       "      <td>SG</td>\n",
       "      <td>14.2241</td>\n",
       "      <td>4348.9440</td>\n",
       "      <td>3.9249</td>\n",
       "      <td>#fff400</td>\n",
       "    </tr>\n",
       "    <tr>\n",
       "      <th>3</th>\n",
       "      <td>Amriswil</td>\n",
       "      <td>TG</td>\n",
       "      <td>15.0246</td>\n",
       "      <td>7283.6735</td>\n",
       "      <td>2.4753</td>\n",
       "      <td>#ffa700</td>\n",
       "    </tr>\n",
       "    <tr>\n",
       "      <th>4</th>\n",
       "      <td>Anières</td>\n",
       "      <td>GE</td>\n",
       "      <td>28.6277</td>\n",
       "      <td>17719.6219</td>\n",
       "      <td>1.9387</td>\n",
       "      <td>#ff0000</td>\n",
       "    </tr>\n",
       "    <tr>\n",
       "      <th>5</th>\n",
       "      <td>Arbedo-Castione</td>\n",
       "      <td>TI</td>\n",
       "      <td>15.1890</td>\n",
       "      <td>5670.6204</td>\n",
       "      <td>3.2143</td>\n",
       "      <td>#fff400</td>\n",
       "    </tr>\n",
       "    <tr>\n",
       "      <th>6</th>\n",
       "      <td>Ardon</td>\n",
       "      <td>VS</td>\n",
       "      <td>17.6667</td>\n",
       "      <td>4879.8672</td>\n",
       "      <td>4.3444</td>\n",
       "      <td>#99ff00</td>\n",
       "    </tr>\n",
       "    <tr>\n",
       "      <th>7</th>\n",
       "      <td>Arzier-Le Muids</td>\n",
       "      <td>VD</td>\n",
       "      <td>29.0021</td>\n",
       "      <td>9049.4812</td>\n",
       "      <td>3.8458</td>\n",
       "      <td>#fff400</td>\n",
       "    </tr>\n",
       "    <tr>\n",
       "      <th>8</th>\n",
       "      <td>Attalens</td>\n",
       "      <td>FR</td>\n",
       "      <td>15.7559</td>\n",
       "      <td>7465.1925</td>\n",
       "      <td>2.5327</td>\n",
       "      <td>#ffa700</td>\n",
       "    </tr>\n",
       "    <tr>\n",
       "      <th>9</th>\n",
       "      <td>Avenches</td>\n",
       "      <td>VD</td>\n",
       "      <td>16.5182</td>\n",
       "      <td>6955.4540</td>\n",
       "      <td>2.8498</td>\n",
       "      <td>#ffa700</td>\n",
       "    </tr>\n",
       "  </tbody>\n",
       "</table>\n",
       "</div>"
      ],
      "text/plain": [
       "             ville canton  prix_metre_carre_moyen_louer  \\\n",
       "0          Aarburg     AG                       16.8634   \n",
       "1             Alle     JU                       13.5849   \n",
       "2       Altstätten     SG                       14.2241   \n",
       "3         Amriswil     TG                       15.0246   \n",
       "4          Anières     GE                       28.6277   \n",
       "5  Arbedo-Castione     TI                       15.1890   \n",
       "6            Ardon     VS                       17.6667   \n",
       "7  Arzier-Le Muids     VD                       29.0021   \n",
       "8         Attalens     FR                       15.7559   \n",
       "9         Avenches     VD                       16.5182   \n",
       "\n",
       "   prix_metre_carre_moyen_acheter     ROI    color  \n",
       "0                       6699.1342  3.0207  #fff400  \n",
       "1                       4592.5926  3.5496  #fff400  \n",
       "2                       4348.9440  3.9249  #fff400  \n",
       "3                       7283.6735  2.4753  #ffa700  \n",
       "4                      17719.6219  1.9387  #ff0000  \n",
       "5                       5670.6204  3.2143  #fff400  \n",
       "6                       4879.8672  4.3444  #99ff00  \n",
       "7                       9049.4812  3.8458  #fff400  \n",
       "8                       7465.1925  2.5327  #ffa700  \n",
       "9                       6955.4540  2.8498  #ffa700  "
      ]
     },
     "execution_count": 4,
     "metadata": {},
     "output_type": "execute_result"
    }
   ],
   "source": [
    "df_ratio_prix_metre_carre = ratio_prix_metre_carre(prix_metre_carre_louer,prix_metre_carre_acheter,)\n",
    "df_ratio_prix_metre_carre.head(10)"
   ]
  },
  {
   "cell_type": "code",
   "execution_count": 5,
   "metadata": {},
   "outputs": [
    {
     "name": "stdout",
     "output_type": "stream",
     "text": [
      "244\n"
     ]
    }
   ],
   "source": [
    "#Pour combien de villes on a un ratio\n",
    "print(len(df_ratio_prix_metre_carre))"
   ]
  },
  {
   "cell_type": "code",
   "execution_count": 6,
   "metadata": {},
   "outputs": [],
   "source": [
    "#Création du nouveau fichier CSV avec le ratio par ville\n",
    "df_ratio_prix_metre_carre.to_csv('1_useful_data/3_ratio/Ratio_prix_metre_carre.csv', index=False)"
   ]
  },
  {
   "cell_type": "markdown",
   "metadata": {},
   "source": [
    "ㅤ\n",
    "\n",
    "---"
   ]
  },
  {
   "cell_type": "markdown",
   "metadata": {},
   "source": [
    "##### ***Choisir la couleur en fonction du ROI***"
   ]
  },
  {
   "cell_type": "code",
   "execution_count": 7,
   "metadata": {},
   "outputs": [],
   "source": [
    "import pandas as pd\n",
    "import matplotlib.pyplot as plt"
   ]
  },
  {
   "cell_type": "code",
   "execution_count": 8,
   "metadata": {},
   "outputs": [
    {
     "data": {
      "image/png": "[encoded data removed]",
      "text/plain": [
       "<Figure size 500x300 with 1 Axes>"
      ]
     },
     "metadata": {},
     "output_type": "display_data"
    }
   ],
   "source": [
    "# Définir les catégories\n",
    "bins = [0.0, 2.0, 3.0, 4.0, 5.0, 6.0, float('inf')]\n",
    "\n",
    "# Ajouter une nouvelle colonne 'categorie_ROI' basée sur les intervalles définis\n",
    "df_ratio_prix_metre_carre['categorie_ROI'] = pd.cut(df_ratio_prix_metre_carre['ROI'], bins=bins, labels=['<2', '2-3', '3-4', '4-5', '5-6', '>6'], right=False)\n",
    "\n",
    "# Compter le nombre d'occurrences dans chaque catégorie\n",
    "occurrences_par_categorie = df_ratio_prix_metre_carre['categorie_ROI'].value_counts().sort_index()\n",
    "\n",
    "\n",
    "# Créer le diagramme à barres\n",
    "plt.figure(figsize=(5,3))\n",
    "occurrences_par_categorie.plot(kind='bar', rot=0)\n",
    "plt.xlabel('Catégorie ROI en %')\n",
    "plt.ylabel('Nombre d\\'occurrences')\n",
    "plt.title('Occurrences de ROI par catégorie')\n",
    "plt.show()\n"
   ]
  }
 ],
 "metadata": {
  "kernelspec": {
   "display_name": "Python 3",
   "language": "python",
   "name": "python3"
  },
  "language_info": {
   "codemirror_mode": {
    "name": "ipython",
    "version": 3
   },
   "file_extension": ".py",
   "mimetype": "text/x-python",
   "name": "python",
   "nbconvert_exporter": "python",
   "pygments_lexer": "ipython3",
   "version": "3.11.1"
  }
 },
 "nbformat": 4,
 "nbformat_minor": 2
}
