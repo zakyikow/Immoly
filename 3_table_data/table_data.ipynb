{
 "cells": [
  {
   "cell_type": "markdown",
   "metadata": {},
   "source": [
    "### ***Le tableau***"
   ]
  },
  {
   "cell_type": "code",
   "execution_count": 120,
   "metadata": {},
   "outputs": [],
   "source": [
    "import pandas as pd\n",
    "\n",
    "merged_df = pd.read_csv('Merged_df.csv')"
   ]
  },
  {
   "cell_type": "code",
   "execution_count": 121,
   "metadata": {},
   "outputs": [
    {
     "data": {
      "text/html": [
       "<div>\n",
       "<style scoped>\n",
       "    .dataframe tbody tr th:only-of-type {\n",
       "        vertical-align: middle;\n",
       "    }\n",
       "\n",
       "    .dataframe tbody tr th {\n",
       "        vertical-align: top;\n",
       "    }\n",
       "\n",
       "    .dataframe thead th {\n",
       "        text-align: right;\n",
       "    }\n",
       "</style>\n",
       "<table border=\"1\" class=\"dataframe\">\n",
       "  <thead>\n",
       "    <tr style=\"text-align: right;\">\n",
       "      <th></th>\n",
       "      <th>ville</th>\n",
       "      <th>canton</th>\n",
       "      <th>prix_metre_carre_moyen_louer</th>\n",
       "      <th>prix_metre_carre_moyen_acheter</th>\n",
       "      <th>ROI</th>\n",
       "    </tr>\n",
       "  </thead>\n",
       "  <tbody>\n",
       "    <tr>\n",
       "      <th>0</th>\n",
       "      <td>Obfelden</td>\n",
       "      <td>ZH</td>\n",
       "      <td>23.02</td>\n",
       "      <td>8640.40</td>\n",
       "      <td>3.20</td>\n",
       "    </tr>\n",
       "    <tr>\n",
       "      <th>1</th>\n",
       "      <td>Wil</td>\n",
       "      <td>ZH</td>\n",
       "      <td>19.82</td>\n",
       "      <td>7255.75</td>\n",
       "      <td>3.28</td>\n",
       "    </tr>\n",
       "    <tr>\n",
       "      <th>2</th>\n",
       "      <td>Winkel</td>\n",
       "      <td>ZH</td>\n",
       "      <td>21.39</td>\n",
       "      <td>9535.26</td>\n",
       "      <td>2.69</td>\n",
       "    </tr>\n",
       "    <tr>\n",
       "      <th>3</th>\n",
       "      <td>Stäfa</td>\n",
       "      <td>ZH</td>\n",
       "      <td>20.59</td>\n",
       "      <td>12761.80</td>\n",
       "      <td>1.94</td>\n",
       "    </tr>\n",
       "    <tr>\n",
       "      <th>4</th>\n",
       "      <td>Pfäffikon</td>\n",
       "      <td>ZH</td>\n",
       "      <td>21.39</td>\n",
       "      <td>9168.47</td>\n",
       "      <td>2.80</td>\n",
       "    </tr>\n",
       "    <tr>\n",
       "      <th>5</th>\n",
       "      <td>Uster</td>\n",
       "      <td>ZH</td>\n",
       "      <td>21.04</td>\n",
       "      <td>9736.07</td>\n",
       "      <td>2.59</td>\n",
       "    </tr>\n",
       "    <tr>\n",
       "      <th>6</th>\n",
       "      <td>Winterthur</td>\n",
       "      <td>ZH</td>\n",
       "      <td>25.21</td>\n",
       "      <td>10111.41</td>\n",
       "      <td>2.99</td>\n",
       "    </tr>\n",
       "    <tr>\n",
       "      <th>7</th>\n",
       "      <td>Urdorf</td>\n",
       "      <td>ZH</td>\n",
       "      <td>22.84</td>\n",
       "      <td>9733.66</td>\n",
       "      <td>2.82</td>\n",
       "    </tr>\n",
       "    <tr>\n",
       "      <th>8</th>\n",
       "      <td>Zürich</td>\n",
       "      <td>ZH</td>\n",
       "      <td>60.71</td>\n",
       "      <td>13342.80</td>\n",
       "      <td>5.46</td>\n",
       "    </tr>\n",
       "    <tr>\n",
       "      <th>9</th>\n",
       "      <td>Langenthal</td>\n",
       "      <td>BE</td>\n",
       "      <td>13.35</td>\n",
       "      <td>4000.00</td>\n",
       "      <td>4.00</td>\n",
       "    </tr>\n",
       "  </tbody>\n",
       "</table>\n",
       "</div>"
      ],
      "text/plain": [
       "        ville canton  prix_metre_carre_moyen_louer  \\\n",
       "0    Obfelden     ZH                         23.02   \n",
       "1         Wil     ZH                         19.82   \n",
       "2      Winkel     ZH                         21.39   \n",
       "3       Stäfa     ZH                         20.59   \n",
       "4   Pfäffikon     ZH                         21.39   \n",
       "5       Uster     ZH                         21.04   \n",
       "6  Winterthur     ZH                         25.21   \n",
       "7      Urdorf     ZH                         22.84   \n",
       "8      Zürich     ZH                         60.71   \n",
       "9  Langenthal     BE                         13.35   \n",
       "\n",
       "   prix_metre_carre_moyen_acheter   ROI  \n",
       "0                         8640.40  3.20  \n",
       "1                         7255.75  3.28  \n",
       "2                         9535.26  2.69  \n",
       "3                        12761.80  1.94  \n",
       "4                         9168.47  2.80  \n",
       "5                         9736.07  2.59  \n",
       "6                        10111.41  2.99  \n",
       "7                         9733.66  2.82  \n",
       "8                        13342.80  5.46  \n",
       "9                         4000.00  4.00  "
      ]
     },
     "execution_count": 121,
     "metadata": {},
     "output_type": "execute_result"
    }
   ],
   "source": [
    "tableau_data = merged_df[['ville','canton','prix_metre_carre_moyen_louer', 'prix_metre_carre_moyen_acheter', 'ROI']].round(2)\n",
    "tableau_data.head(10)"
   ]
  },
  {
   "cell_type": "markdown",
   "metadata": {},
   "source": [
    "---"
   ]
  },
  {
   "cell_type": "markdown",
   "metadata": {},
   "source": [
    "##### ***Converti le df en tableau CSV***"
   ]
  },
  {
   "cell_type": "code",
   "execution_count": 122,
   "metadata": {},
   "outputs": [],
   "source": [
    "#Création du nouveau fichier CSV avec le tableau\n",
    "tableau_data.to_csv('table_csv.csv', index=False)"
   ]
  },
  {
   "cell_type": "markdown",
   "metadata": {},
   "source": [
    "##### ***Converti le df en tableau HTML***"
   ]
  },
  {
   "cell_type": "code",
   "execution_count": 123,
   "metadata": {},
   "outputs": [],
   "source": [
    "#Création du nouveau fichier HTML avec le tableau\n",
    "tableau_data.to_html('table_html.html', index=False)"
   ]
  },
  {
   "cell_type": "markdown",
   "metadata": {},
   "source": [
    "##### ***Qq modifs du HTML***"
   ]
  },
  {
   "cell_type": "code",
   "execution_count": 124,
   "metadata": {},
   "outputs": [],
   "source": [
    "# Supprime tout avant le '</thead>' et remplace '</table>' par une chaîne vide dans le HTML\n",
    "with open('table_html.html', 'r') as file:\n",
    "    html_content = file.read()\n",
    "\n",
    "\n",
    "# Trouve l'index de '</thead>' et '</table>'\n",
    "index_thead = html_content.find('</thead>')\n",
    "index_table = html_content.find('</table>')\n",
    "\n",
    "# Remplace tout le contenu avant '</thead>' par une chaîne vide\n",
    "modified_html_content = html_content[index_thead+len('</thead>'):]\n",
    "\n",
    "# Remplace '</table>' par une chaîne vide dans le contenu modifié\n",
    "modified_html_content = modified_html_content.replace('</table>', '')\n",
    "\n",
    "\n",
    "# Réécrit le fichier HTML avec la modification\n",
    "with open('table_html.html', 'w') as file:\n",
    "    file.write(modified_html_content)"
   ]
  },
  {
   "cell_type": "markdown",
   "metadata": {},
   "source": [
    "##### ***Modifie le HTML avec beautiful soup pour mettre la couleur en fonction du ROI***"
   ]
  },
  {
   "cell_type": "code",
   "execution_count": 125,
   "metadata": {},
   "outputs": [],
   "source": [
    "from bs4 import BeautifulSoup\n",
    "\n",
    "# Ouvrir le fichier HTML existant\n",
    "with open('table_html.html', 'r', encoding='utf-8') as file:\n",
    "    html_content = file.read()\n",
    "\n",
    "\n",
    "# Analyser le code HTML avec BeautifulSoup\n",
    "soup = BeautifulSoup(html_content, 'html.parser')\n",
    "\n",
    "# Trouver toutes les balises <tr> dans le code HTML\n",
    "for tr_tag in soup.find_all('tr'):\n",
    "    # Récupérer la valeur du 5ème <td> après chaque <tr>\n",
    "    roi_value = float(tr_tag.find_all('td')[4].text.strip())\n",
    "    \n",
    "    # Déterminer la classe en fonction de la valeur de ROI\n",
    "    if roi_value < 2:\n",
    "        class_name = 'colorROI bad'\n",
    "    elif 2 <= roi_value < 3:\n",
    "        class_name = 'colorROI notgood'\n",
    "    elif 3 <= roi_value < 4:\n",
    "        class_name = 'colorROI okay'\n",
    "    elif 4 <= roi_value < 5:\n",
    "        class_name = 'colorROI commun'\n",
    "    elif 5 <= roi_value < 6:\n",
    "        class_name = 'colorROI good'\n",
    "    else:\n",
    "        class_name = 'colorROI excellent'\n",
    "    \n",
    "    # Créer une nouvelle balise <p> avec la classe désirée et y placer la valeur de ROI\n",
    "    p_tag = soup.new_tag('p', **{'class': class_name})\n",
    "    p_tag.string = str(roi_value)\n",
    "\n",
    "    # Remplacer le contenu de la balise <td> par la nouvelle balise <p>\n",
    "    td_tag = tr_tag.find_all('td')[4]\n",
    "    td_tag.clear()  # Effacer le contenu actuel de la balise <td>\n",
    "    td_tag.append(p_tag)  # Ajouter la nouvelle balise <p> à la balise <td>\n",
    "\n",
    "#Ajoute une tabulation à gauche de la balise <tr>\n",
    "for tr_tag in soup.find_all('tr'):\n",
    "    tr_tag.insert_before(soup.new_string('\\t'))\n",
    "\n",
    "#Ajoute une tabulation à gauche de la balise <tr>\n",
    "for tr_tag in soup.find_all('td'):\n",
    "    tr_tag.insert_before(soup.new_string('\\t\\t'))\n",
    "\n",
    "\n",
    "# Enregistrer le code HTML modifié dans un fichier\n",
    "with open('table_html.html', 'w', encoding='utf-8') as file:\n",
    "    file.write(str(soup))"
   ]
  },
  {
   "cell_type": "code",
   "execution_count": 126,
   "metadata": {},
   "outputs": [],
   "source": [
    "#Tabule '</tr>' \n",
    "\n",
    "with open('table_html.html', 'r') as file:\n",
    "    html_content = file.read()\n",
    "    \n",
    "modified_html_content = html_content.replace('</tr>', '    </tr>')\n",
    "\n",
    "# Réécrit le fichier HTML avec la modification\n",
    "with open('table_html.html', 'w') as file:\n",
    "    file.write(modified_html_content)"
   ]
  }
 ],
 "metadata": {
  "kernelspec": {
   "display_name": "Python 3",
   "language": "python",
   "name": "python3"
  },
  "language_info": {
   "codemirror_mode": {
    "name": "ipython",
    "version": 3
   },
   "file_extension": ".py",
   "mimetype": "text/x-python",
   "name": "python",
   "nbconvert_exporter": "python",
   "pygments_lexer": "ipython3",
   "version": "3.11.1"
  }
 },
 "nbformat": 4,
 "nbformat_minor": 2
}
